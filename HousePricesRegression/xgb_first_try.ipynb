{
 "cells": [
  {
   "cell_type": "code",
   "execution_count": 1,
   "metadata": {},
   "outputs": [],
   "source": [
    "import pandas as pd\n",
    "import math\n",
    "from sklearn.metrics import mean_absolute_error, mean_squared_log_error\n",
    "from sklearn.model_selection import train_test_split\n",
    "from xgboost import XGBRegressor\n",
    "\n",
    "\n",
    "data = pd.read_csv(\"train.csv\")\n",
    "features = [\"LotArea\", \"OverallQual\", \"OverallCond\", \"YearBuilt\", \"YearRemodAdd\", \"TotalBsmtSF\", \"GrLivArea\", \"1stFlrSF\", \"2ndFlrSF\", \"GarageArea\", \"PoolArea\", \"YrSold\"]\n",
    "X = data[features]\n",
    "y = data[\"SalePrice\"]\n",
    "X_train, X_val, y_train, y_val = train_test_split(X, y, random_state=0)\n",
    "\n",
    "\n"
   ]
  },
  {
   "cell_type": "code",
   "execution_count": 2,
   "metadata": {},
   "outputs": [
    {
     "name": "stderr",
     "output_type": "stream",
     "text": [
      "c:\\Users\\Kamil\\Desktop\\projekty\\ml\\env\\lib\\site-packages\\xgboost\\sklearn.py:793: UserWarning: `early_stopping_rounds` in `fit` method is deprecated for better compatibility with scikit-learn, use `early_stopping_rounds` in constructor or`set_params` instead.\n",
      "  warnings.warn(\n"
     ]
    },
    {
     "name": "stdout",
     "output_type": "stream",
     "text": [
      "SMSE: 0.1351581756107808\n"
     ]
    }
   ],
   "source": [
    "def competition_error_calculation(model, X_val, y_val):\n",
    "  predictions = model.predict(X_val)\n",
    "  return math.sqrt(mean_squared_log_error(predictions, y_val))\n",
    "\n",
    "\n",
    "my_model = XGBRegressor(n_estimators=1000, learning_rate=0.05)\n",
    "my_model.fit(X_train, y_train, early_stopping_rounds=5, eval_set=[(X_val, y_val)], verbose=False)\n",
    "predictions = my_model.predict(X_val)\n",
    "print(\"SMSE: \" + str(competition_error_calculation(my_model, X_val, y_val)))\n",
    "\n"
   ]
  },
  {
   "cell_type": "code",
   "execution_count": 7,
   "metadata": {},
   "outputs": [],
   "source": [
    "def make_submission(model, features):\n",
    "  test_data = pd.read_csv(\"test.csv\")\n",
    "  predictions = model.predict(test_data[features])\n",
    "  predictions_df = pd.DataFrame(data={\"Id\": range(1461, 1461 + len(test_data)), \"SalePrice\": predictions})\n",
    "  predictions_df.to_csv(\"submission.csv\")\n"
   ]
  }
 ],
 "metadata": {
  "kernelspec": {
   "display_name": "Python 3.8.10 ('env': venv)",
   "language": "python",
   "name": "python3"
  },
  "language_info": {
   "codemirror_mode": {
    "name": "ipython",
    "version": 3
   },
   "file_extension": ".py",
   "mimetype": "text/x-python",
   "name": "python",
   "nbconvert_exporter": "python",
   "pygments_lexer": "ipython3",
   "version": "3.8.10"
  },
  "orig_nbformat": 4,
  "vscode": {
   "interpreter": {
    "hash": "8f00d7d448cda682f6e2709fa1e5f93874d3a22045ac5670ba3c97d144918f7d"
   }
  }
 },
 "nbformat": 4,
 "nbformat_minor": 2
}
