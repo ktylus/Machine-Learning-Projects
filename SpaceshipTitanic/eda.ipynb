{
 "cells": [
  {
   "cell_type": "code",
   "execution_count": 10,
   "metadata": {},
   "outputs": [
    {
     "data": {
      "text/html": [
       "<div>\n",
       "<style scoped>\n",
       "    .dataframe tbody tr th:only-of-type {\n",
       "        vertical-align: middle;\n",
       "    }\n",
       "\n",
       "    .dataframe tbody tr th {\n",
       "        vertical-align: top;\n",
       "    }\n",
       "\n",
       "    .dataframe thead th {\n",
       "        text-align: right;\n",
       "    }\n",
       "</style>\n",
       "<table border=\"1\" class=\"dataframe\">\n",
       "  <thead>\n",
       "    <tr style=\"text-align: right;\">\n",
       "      <th></th>\n",
       "      <th>PassengerId</th>\n",
       "      <th>HomePlanet</th>\n",
       "      <th>CryoSleep</th>\n",
       "      <th>Cabin</th>\n",
       "      <th>Destination</th>\n",
       "      <th>Age</th>\n",
       "      <th>VIP</th>\n",
       "      <th>RoomService</th>\n",
       "      <th>FoodCourt</th>\n",
       "      <th>ShoppingMall</th>\n",
       "      <th>Spa</th>\n",
       "      <th>VRDeck</th>\n",
       "      <th>Name</th>\n",
       "      <th>Transported</th>\n",
       "    </tr>\n",
       "  </thead>\n",
       "  <tbody>\n",
       "    <tr>\n",
       "      <th>0</th>\n",
       "      <td>0001_01</td>\n",
       "      <td>Europa</td>\n",
       "      <td>False</td>\n",
       "      <td>B/0/P</td>\n",
       "      <td>TRAPPIST-1e</td>\n",
       "      <td>39.0</td>\n",
       "      <td>False</td>\n",
       "      <td>0.0</td>\n",
       "      <td>0.0</td>\n",
       "      <td>0.0</td>\n",
       "      <td>0.0</td>\n",
       "      <td>0.0</td>\n",
       "      <td>Maham Ofracculy</td>\n",
       "      <td>False</td>\n",
       "    </tr>\n",
       "    <tr>\n",
       "      <th>1</th>\n",
       "      <td>0002_01</td>\n",
       "      <td>Earth</td>\n",
       "      <td>False</td>\n",
       "      <td>F/0/S</td>\n",
       "      <td>TRAPPIST-1e</td>\n",
       "      <td>24.0</td>\n",
       "      <td>False</td>\n",
       "      <td>109.0</td>\n",
       "      <td>9.0</td>\n",
       "      <td>25.0</td>\n",
       "      <td>549.0</td>\n",
       "      <td>44.0</td>\n",
       "      <td>Juanna Vines</td>\n",
       "      <td>True</td>\n",
       "    </tr>\n",
       "    <tr>\n",
       "      <th>2</th>\n",
       "      <td>0003_01</td>\n",
       "      <td>Europa</td>\n",
       "      <td>False</td>\n",
       "      <td>A/0/S</td>\n",
       "      <td>TRAPPIST-1e</td>\n",
       "      <td>58.0</td>\n",
       "      <td>True</td>\n",
       "      <td>43.0</td>\n",
       "      <td>3576.0</td>\n",
       "      <td>0.0</td>\n",
       "      <td>6715.0</td>\n",
       "      <td>49.0</td>\n",
       "      <td>Altark Susent</td>\n",
       "      <td>False</td>\n",
       "    </tr>\n",
       "    <tr>\n",
       "      <th>3</th>\n",
       "      <td>0003_02</td>\n",
       "      <td>Europa</td>\n",
       "      <td>False</td>\n",
       "      <td>A/0/S</td>\n",
       "      <td>TRAPPIST-1e</td>\n",
       "      <td>33.0</td>\n",
       "      <td>False</td>\n",
       "      <td>0.0</td>\n",
       "      <td>1283.0</td>\n",
       "      <td>371.0</td>\n",
       "      <td>3329.0</td>\n",
       "      <td>193.0</td>\n",
       "      <td>Solam Susent</td>\n",
       "      <td>False</td>\n",
       "    </tr>\n",
       "    <tr>\n",
       "      <th>4</th>\n",
       "      <td>0004_01</td>\n",
       "      <td>Earth</td>\n",
       "      <td>False</td>\n",
       "      <td>F/1/S</td>\n",
       "      <td>TRAPPIST-1e</td>\n",
       "      <td>16.0</td>\n",
       "      <td>False</td>\n",
       "      <td>303.0</td>\n",
       "      <td>70.0</td>\n",
       "      <td>151.0</td>\n",
       "      <td>565.0</td>\n",
       "      <td>2.0</td>\n",
       "      <td>Willy Santantines</td>\n",
       "      <td>True</td>\n",
       "    </tr>\n",
       "  </tbody>\n",
       "</table>\n",
       "</div>"
      ],
      "text/plain": [
       "  PassengerId HomePlanet CryoSleep  Cabin  Destination   Age    VIP  \\\n",
       "0     0001_01     Europa     False  B/0/P  TRAPPIST-1e  39.0  False   \n",
       "1     0002_01      Earth     False  F/0/S  TRAPPIST-1e  24.0  False   \n",
       "2     0003_01     Europa     False  A/0/S  TRAPPIST-1e  58.0   True   \n",
       "3     0003_02     Europa     False  A/0/S  TRAPPIST-1e  33.0  False   \n",
       "4     0004_01      Earth     False  F/1/S  TRAPPIST-1e  16.0  False   \n",
       "\n",
       "   RoomService  FoodCourt  ShoppingMall     Spa  VRDeck               Name  \\\n",
       "0          0.0        0.0           0.0     0.0     0.0    Maham Ofracculy   \n",
       "1        109.0        9.0          25.0   549.0    44.0       Juanna Vines   \n",
       "2         43.0     3576.0           0.0  6715.0    49.0      Altark Susent   \n",
       "3          0.0     1283.0         371.0  3329.0   193.0       Solam Susent   \n",
       "4        303.0       70.0         151.0   565.0     2.0  Willy Santantines   \n",
       "\n",
       "   Transported  \n",
       "0        False  \n",
       "1         True  \n",
       "2        False  \n",
       "3        False  \n",
       "4         True  "
      ]
     },
     "execution_count": 10,
     "metadata": {},
     "output_type": "execute_result"
    }
   ],
   "source": [
    "import pandas as pd\n",
    "import numpy as np\n",
    "from sklearn.impute import SimpleImputer\n",
    "import seaborn as sns\n",
    "import matplotlib.pyplot as plt\n",
    "\n",
    "data = pd.read_csv(\"train.csv\")\n",
    "data.head()"
   ]
  },
  {
   "cell_type": "code",
   "execution_count": 11,
   "metadata": {},
   "outputs": [
    {
     "data": {
      "text/html": [
       "<div>\n",
       "<style scoped>\n",
       "    .dataframe tbody tr th:only-of-type {\n",
       "        vertical-align: middle;\n",
       "    }\n",
       "\n",
       "    .dataframe tbody tr th {\n",
       "        vertical-align: top;\n",
       "    }\n",
       "\n",
       "    .dataframe thead th {\n",
       "        text-align: right;\n",
       "    }\n",
       "</style>\n",
       "<table border=\"1\" class=\"dataframe\">\n",
       "  <thead>\n",
       "    <tr style=\"text-align: right;\">\n",
       "      <th></th>\n",
       "      <th>PassengerId</th>\n",
       "      <th>HomePlanet</th>\n",
       "      <th>CryoSleep</th>\n",
       "      <th>Cabin</th>\n",
       "      <th>Destination</th>\n",
       "      <th>Age</th>\n",
       "      <th>VIP</th>\n",
       "      <th>RoomService</th>\n",
       "      <th>FoodCourt</th>\n",
       "      <th>ShoppingMall</th>\n",
       "      <th>Spa</th>\n",
       "      <th>VRDeck</th>\n",
       "      <th>Name</th>\n",
       "      <th>Transported</th>\n",
       "      <th>Deck</th>\n",
       "      <th>Num</th>\n",
       "      <th>Side</th>\n",
       "    </tr>\n",
       "  </thead>\n",
       "  <tbody>\n",
       "    <tr>\n",
       "      <th>0</th>\n",
       "      <td>0001_01</td>\n",
       "      <td>Europa</td>\n",
       "      <td>0.0</td>\n",
       "      <td>B/0/P</td>\n",
       "      <td>TRAPPIST-1e</td>\n",
       "      <td>39.0</td>\n",
       "      <td>0.0</td>\n",
       "      <td>0.0</td>\n",
       "      <td>0.0</td>\n",
       "      <td>0.0</td>\n",
       "      <td>0.0</td>\n",
       "      <td>0.0</td>\n",
       "      <td>Maham Ofracculy</td>\n",
       "      <td>False</td>\n",
       "      <td>B</td>\n",
       "      <td>0</td>\n",
       "      <td>P</td>\n",
       "    </tr>\n",
       "    <tr>\n",
       "      <th>1</th>\n",
       "      <td>0002_01</td>\n",
       "      <td>Earth</td>\n",
       "      <td>0.0</td>\n",
       "      <td>F/0/S</td>\n",
       "      <td>TRAPPIST-1e</td>\n",
       "      <td>24.0</td>\n",
       "      <td>0.0</td>\n",
       "      <td>109.0</td>\n",
       "      <td>9.0</td>\n",
       "      <td>25.0</td>\n",
       "      <td>549.0</td>\n",
       "      <td>44.0</td>\n",
       "      <td>Juanna Vines</td>\n",
       "      <td>True</td>\n",
       "      <td>F</td>\n",
       "      <td>0</td>\n",
       "      <td>S</td>\n",
       "    </tr>\n",
       "    <tr>\n",
       "      <th>2</th>\n",
       "      <td>0003_01</td>\n",
       "      <td>Europa</td>\n",
       "      <td>0.0</td>\n",
       "      <td>A/0/S</td>\n",
       "      <td>TRAPPIST-1e</td>\n",
       "      <td>58.0</td>\n",
       "      <td>1.0</td>\n",
       "      <td>43.0</td>\n",
       "      <td>3576.0</td>\n",
       "      <td>0.0</td>\n",
       "      <td>6715.0</td>\n",
       "      <td>49.0</td>\n",
       "      <td>Altark Susent</td>\n",
       "      <td>False</td>\n",
       "      <td>A</td>\n",
       "      <td>0</td>\n",
       "      <td>S</td>\n",
       "    </tr>\n",
       "    <tr>\n",
       "      <th>3</th>\n",
       "      <td>0003_02</td>\n",
       "      <td>Europa</td>\n",
       "      <td>0.0</td>\n",
       "      <td>A/0/S</td>\n",
       "      <td>TRAPPIST-1e</td>\n",
       "      <td>33.0</td>\n",
       "      <td>0.0</td>\n",
       "      <td>0.0</td>\n",
       "      <td>1283.0</td>\n",
       "      <td>371.0</td>\n",
       "      <td>3329.0</td>\n",
       "      <td>193.0</td>\n",
       "      <td>Solam Susent</td>\n",
       "      <td>False</td>\n",
       "      <td>A</td>\n",
       "      <td>0</td>\n",
       "      <td>S</td>\n",
       "    </tr>\n",
       "    <tr>\n",
       "      <th>4</th>\n",
       "      <td>0004_01</td>\n",
       "      <td>Earth</td>\n",
       "      <td>0.0</td>\n",
       "      <td>F/1/S</td>\n",
       "      <td>TRAPPIST-1e</td>\n",
       "      <td>16.0</td>\n",
       "      <td>0.0</td>\n",
       "      <td>303.0</td>\n",
       "      <td>70.0</td>\n",
       "      <td>151.0</td>\n",
       "      <td>565.0</td>\n",
       "      <td>2.0</td>\n",
       "      <td>Willy Santantines</td>\n",
       "      <td>True</td>\n",
       "      <td>F</td>\n",
       "      <td>1</td>\n",
       "      <td>S</td>\n",
       "    </tr>\n",
       "  </tbody>\n",
       "</table>\n",
       "</div>"
      ],
      "text/plain": [
       "  PassengerId HomePlanet  CryoSleep  Cabin  Destination   Age  VIP  \\\n",
       "0     0001_01     Europa        0.0  B/0/P  TRAPPIST-1e  39.0  0.0   \n",
       "1     0002_01      Earth        0.0  F/0/S  TRAPPIST-1e  24.0  0.0   \n",
       "2     0003_01     Europa        0.0  A/0/S  TRAPPIST-1e  58.0  1.0   \n",
       "3     0003_02     Europa        0.0  A/0/S  TRAPPIST-1e  33.0  0.0   \n",
       "4     0004_01      Earth        0.0  F/1/S  TRAPPIST-1e  16.0  0.0   \n",
       "\n",
       "   RoomService  FoodCourt  ShoppingMall     Spa  VRDeck               Name  \\\n",
       "0          0.0        0.0           0.0     0.0     0.0    Maham Ofracculy   \n",
       "1        109.0        9.0          25.0   549.0    44.0       Juanna Vines   \n",
       "2         43.0     3576.0           0.0  6715.0    49.0      Altark Susent   \n",
       "3          0.0     1283.0         371.0  3329.0   193.0       Solam Susent   \n",
       "4        303.0       70.0         151.0   565.0     2.0  Willy Santantines   \n",
       "\n",
       "   Transported Deck  Num Side  \n",
       "0        False    B    0    P  \n",
       "1         True    F    0    S  \n",
       "2        False    A    0    S  \n",
       "3        False    A    0    S  \n",
       "4         True    F    1    S  "
      ]
     },
     "execution_count": 11,
     "metadata": {},
     "output_type": "execute_result"
    }
   ],
   "source": [
    "bool_map = {\n",
    "  True: 1,\n",
    "  False: 0\n",
    "}\n",
    "\n",
    "data[\"CryoSleep\"] = data[\"CryoSleep\"].map(bool_map)\n",
    "data[\"VIP\"] = data[\"VIP\"].map(bool_map)\n",
    "data[[\"Deck\", \"Num\", \"Side\"]] = data[\"Cabin\"].str.split(\"/\", expand=True)\n",
    "\n",
    "data[\"Num\"] = data[\"Num\"].fillna(\"0\")\n",
    "data[\"Num\"] = data[\"Num\"].astype(int)\n",
    "\n",
    "data.head()"
   ]
  },
  {
   "cell_type": "code",
   "execution_count": 12,
   "metadata": {},
   "outputs": [
    {
     "data": {
      "image/png": "[encoded data removed]",
      "text/plain": [
       "<Figure size 1080x1080 with 2 Axes>"
      ]
     },
     "metadata": {
      "needs_background": "light"
     },
     "output_type": "display_data"
    }
   ],
   "source": [
    "def correlation(data):\n",
    "  corrmat = data.corr()\n",
    "  top_corr_features = corrmat.index\n",
    "  plt.figure(figsize=(15,15))\n",
    "  g=sns.heatmap(data[top_corr_features].corr(),annot=True,cmap=\"RdYlGn\")\n",
    "\n",
    "correlation(data)"
   ]
  },
  {
   "cell_type": "code",
   "execution_count": 49,
   "metadata": {},
   "outputs": [
    {
     "name": "stdout",
     "output_type": "stream",
     "text": [
      "Earth     4602\n",
      "Europa    2131\n",
      "Mars      1759\n",
      "Name: HomePlanet, dtype: int64\n",
      "G/734/S     8\n",
      "G/109/P     7\n",
      "B/201/P     7\n",
      "G/1368/P    7\n",
      "G/981/S     7\n",
      "           ..\n",
      "G/556/P     1\n",
      "E/231/S     1\n",
      "G/545/S     1\n",
      "G/543/S     1\n",
      "F/947/P     1\n",
      "Name: Cabin, Length: 6560, dtype: int64\n",
      "TRAPPIST-1e      5915\n",
      "55 Cancri e      1800\n",
      "PSO J318.5-22     796\n",
      "Name: Destination, dtype: int64\n"
     ]
    }
   ],
   "source": [
    "cols = [\"HomePlanet\", \"Cabin\", \"Destination\"]\n",
    "\n",
    "for col in cols:\n",
    "  print(data[col].value_counts())"
   ]
  },
  {
   "cell_type": "code",
   "execution_count": 50,
   "metadata": {},
   "outputs": [
    {
     "name": "stdout",
     "output_type": "stream",
     "text": [
      "Earth   TRAPPIST-1e   0.38922928087713643\n",
      "Earth   55 Cancri e   0.5043478260869565\n",
      "Earth   PSO J318.5-22   0.49859550561797755\n",
      "Europa   TRAPPIST-1e   0.6349873843566022\n",
      "Europa   55 Cancri e   0.6896162528216704\n",
      "Europa   PSO J318.5-22   0.7368421052631579\n",
      "Mars   TRAPPIST-1e   0.511864406779661\n",
      "Mars   55 Cancri e   0.6113989637305699\n",
      "Mars   PSO J318.5-22   0.4489795918367347\n"
     ]
    }
   ],
   "source": [
    "home_planets = [\"Earth\", \"Europa\", \"Mars\"]\n",
    "destinations = [\"TRAPPIST-1e\", \"55 Cancri e\", \"PSO J318.5-22\"]\n",
    "\n",
    "for planet in home_planets:\n",
    "  for dest in destinations:\n",
    "    data_slice = data[(data[\"HomePlanet\"] == planet) & (data[\"Destination\"] == dest)]\n",
    "    print(planet + \"   \" + dest + \"   \" + str(data_slice[\"Transported\"].sum() / len(data_slice)))"
   ]
  },
  {
   "cell_type": "code",
   "execution_count": 51,
   "metadata": {},
   "outputs": [
    {
     "name": "stdout",
     "output_type": "stream",
     "text": [
      "F    2794\n",
      "G    2559\n",
      "E     876\n",
      "B     779\n",
      "C     747\n",
      "D     478\n",
      "A     256\n",
      "T       5\n",
      "dtype: int64\n",
      "S    4288\n",
      "P    4206\n",
      "dtype: int64\n"
     ]
    }
   ],
   "source": [
    "cabin_first_letters = []\n",
    "cabin_last_letters = []\n",
    "\n",
    "for cabin in data[\"Cabin\"]:\n",
    "  cabin = str(cabin)\n",
    "  if cabin.count(\"/\") == 2:\n",
    "    txt = cabin.split(\"/\")\n",
    "    cabin_first_letters.append(txt[0])\n",
    "    cabin_last_letters.append(txt[2])\n",
    "\n",
    "cabin_first_letters = pd.Series(cabin_first_letters)\n",
    "cabin_last_letters = pd.Series(cabin_last_letters)\n",
    "\n",
    "first_letters_set = set(cabin_first_letters)\n",
    "last_letters_set = set(cabin_last_letters)\n",
    "\n",
    "print(cabin_first_letters.value_counts())\n",
    "print(cabin_last_letters.value_counts())"
   ]
  },
  {
   "cell_type": "code",
   "execution_count": 52,
   "metadata": {},
   "outputs": [],
   "source": [
    "data[\"Cabin\"].fillna(\"0\", inplace=True)"
   ]
  },
  {
   "cell_type": "code",
   "execution_count": 53,
   "metadata": {},
   "outputs": [
    {
     "name": "stdout",
     "output_type": "stream",
     "text": [
      "T   S   0.0\n",
      "T   P   0.25\n",
      "D   S   0.4652173913043478\n",
      "D   P   0.4032258064516129\n",
      "F   S   0.47050147492625366\n",
      "F   P   0.4109874826147427\n",
      "B   S   0.784037558685446\n",
      "B   P   0.6742209631728046\n",
      "G   S   0.5837879968823071\n",
      "G   P   0.4482758620689655\n",
      "A   S   0.5467625899280576\n",
      "A   P   0.4358974358974359\n",
      "C   S   0.7635467980295566\n",
      "C   P   0.5806451612903226\n",
      "E   S   0.3713646532438479\n",
      "E   P   0.34265734265734266\n"
     ]
    }
   ],
   "source": [
    "for first_letter in first_letters_set:\n",
    "  for last_letter in last_letters_set:\n",
    "    data_slice = data[(data[\"Cabin\"].astype(str).str[0] == first_letter) & (data[\"Cabin\"].astype(str).str[-1] == last_letter)]\n",
    "    print(first_letter + \"   \" + last_letter + \"   \" + str(data_slice[\"Transported\"].sum() / len(data_slice)))"
   ]
  },
  {
   "cell_type": "code",
   "execution_count": 54,
   "metadata": {},
   "outputs": [
    {
     "name": "stdout",
     "output_type": "stream",
     "text": [
      "0.5025125628140703\n"
     ]
    }
   ],
   "source": [
    "no_cabin = data[data[\"Cabin\"] == \"0\"]\n",
    "\n",
    "print(no_cabin[\"Transported\"].sum() / len(no_cabin))"
   ]
  },
  {
   "cell_type": "code",
   "execution_count": 55,
   "metadata": {},
   "outputs": [
    {
     "name": "stdout",
     "output_type": "stream",
     "text": [
      "HomePlanet    201\n",
      "CryoSleep    217\n",
      "Destination    182\n",
      "Age    179\n",
      "VIP    203\n",
      "RoomService    181\n",
      "FoodCourt    183\n",
      "ShoppingMall    208\n",
      "Spa    183\n",
      "VRDeck    188\n",
      "Name    200\n"
     ]
    }
   ],
   "source": [
    "cols_with_nans = []\n",
    "\n",
    "def count_nans(data):\n",
    "  for col in data.columns:\n",
    "    nans = data[col].isna().sum()\n",
    "    if nans > 0:\n",
    "      print(col + \"    \" + str(nans))\n",
    "      cols_with_nans.append(col)\n",
    "\n",
    "count_nans(data)"
   ]
  },
  {
   "cell_type": "code",
   "execution_count": 59,
   "metadata": {},
   "outputs": [
    {
     "name": "stdout",
     "output_type": "stream",
     "text": [
      "HomePlanet   0.5124378109452736\n",
      "CryoSleep   0.48847926267281105\n",
      "Destination   0.5054945054945055\n",
      "Age   0.5027932960893855\n",
      "VIP   0.5123152709359606\n",
      "RoomService   0.4585635359116022\n",
      "FoodCourt   0.5409836065573771\n",
      "ShoppingMall   0.5480769230769231\n",
      "Spa   0.4972677595628415\n",
      "VRDeck   0.5212765957446809\n",
      "Name   0.505\n"
     ]
    }
   ],
   "source": [
    "for col in cols_with_nans:\n",
    "  data_slice = data[data[col].isna()]\n",
    "  print(col + \"   \" + str(data_slice[\"Transported\"].sum() / len(data_slice)))"
   ]
  },
  {
   "cell_type": "code",
   "execution_count": 61,
   "metadata": {},
   "outputs": [
    {
     "name": "stdout",
     "output_type": "stream",
     "text": [
      "HomePlanet   1.1840796019900497\n",
      "CryoSleep   1.2258064516129032\n",
      "Destination   1.2087912087912087\n",
      "Age   1.1620111731843576\n",
      "VIP   1.1773399014778325\n",
      "RoomService   1.1546961325966851\n",
      "FoodCourt   1.2131147540983607\n",
      "ShoppingMall   1.2211538461538463\n",
      "Spa   1.180327868852459\n",
      "VRDeck   1.1914893617021276\n",
      "Name   1.225\n"
     ]
    }
   ],
   "source": [
    "for col in cols_with_nans:\n",
    "  data_slice = data[data[col].isna()]\n",
    "  print(col + \"   \" + str(data_slice.isna().sum().sum() / len(data_slice)))\n",
    "\n",
    "# rows with missing values seem to have only slightly over 1 missing value on average"
   ]
  }
 ],
 "metadata": {
  "kernelspec": {
   "display_name": "Python 3.8.10 ('env': venv)",
   "language": "python",
   "name": "python3"
  },
  "language_info": {
   "codemirror_mode": {
    "name": "ipython",
    "version": 3
   },
   "file_extension": ".py",
   "mimetype": "text/x-python",
   "name": "python",
   "nbconvert_exporter": "python",
   "pygments_lexer": "ipython3",
   "version": "3.8.10"
  },
  "orig_nbformat": 4,
  "vscode": {
   "interpreter": {
    "hash": "8f00d7d448cda682f6e2709fa1e5f93874d3a22045ac5670ba3c97d144918f7d"
   }
  }
 },
 "nbformat": 4,
 "nbformat_minor": 2
}
